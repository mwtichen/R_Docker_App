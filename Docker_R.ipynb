{
 "cells": [
  {
   "cell_type": "markdown",
   "metadata": {},
   "source": [
    "# Dockerizing a R App"
   ]
  },
  {
   "cell_type": "markdown",
   "metadata": {},
   "source": [
    "I've heard good things about Docker and I have yet to put a R project in my portfolio, despite claiming knowledge of R programming, so I figured that I'd (figuratively) kill two birds with one stone by containerizing a web app made in R."
   ]
  },
  {
   "cell_type": "markdown",
   "metadata": {},
   "source": [
    "## R Plumber"
   ]
  },
  {
   "cell_type": "markdown",
   "metadata": {},
   "source": [
    "Plumber is a R package for designing web apps. FYI, [here](https://www.rplumber.io/docs/index.html)'s a link to the documentation.\n",
    "\n",
    "Now, in this project I'll build a web app using the auto.arima function from R's forecast package. FYI, [here](https://cran.r-project.org/web/packages/forecast/forecast.pdf)'s the documentation for that library, along with a [link](https://otexts.com/fpp2/) to the author's excellent book, \"Forecasting: Principles and Practice\".\n",
    "\n",
    "Anyways, the web app will call upon a function that uses the auto.arima function to find the best fitting Arima type model for a time series, then return the coefficients of said Arima model.\n",
    "\n",
    "Here's the R script:"
   ]
  },
  {
   "cell_type": "markdown",
   "metadata": {},
   "source": [
    "```R\n",
    "# plumber_auto_arima.R\n",
    "\n",
    "if(!require(forecast)){\n",
    "  install.packages(\"forecast\")\n",
    "}\n",
    "library(forecast)\n",
    "\n",
    "#* Automatically fit an ARIMA model\n",
    "#* @param y the time series\n",
    "#* @param f:numeric the frequency of the time series\n",
    "#* @post /auto-arima\n",
    "function(y, f = 12){\n",
    "  y <- ts(y, frequency = f)\n",
    "  model <- auto.arima(y)\n",
    "  order <- arimaorder(model)\n",
    "  result <- list(p = order[1],\n",
    "                 d = order[2],\n",
    "\t\t\t\t q = order[3],\n",
    "\t\t\t\t P = order[4],\n",
    "\t\t\t\t D = order[5],\n",
    "\t\t\t\t Q = order[6],\n",
    "\t\t\t\t S = order[7])\n",
    "  return(result)\t\t\t\t \n",
    "}\n",
    "\n",
    "```"
   ]
  },
  {
   "cell_type": "markdown",
   "metadata": {},
   "source": [
    "Especially important are the comments above the function. The comment @param specifies a parameter for the function, and the @post specifies the request method for the API.\n",
    "\n",
    "With this script saved, another R program *plumbs* this script and runs the API. That script is below:"
   ]
  },
  {
   "cell_type": "markdown",
   "metadata": {},
   "source": [
    "```R\n",
    "if(!require(plumber)){\n",
    "  install.packages(\"plumber\")\n",
    "}\n",
    "library(plumber)\n",
    "\n",
    "r <- plumb(\"/home/auto_arima/plumber_auto_arima.R\")  \n",
    "r$run(host='0.0.0.0', port=8000)\n",
    "```"
   ]
  },
  {
   "cell_type": "markdown",
   "metadata": {},
   "source": [
    "Since this program will be run inside a Docker container, the filepath of the script is the location of that file inside the Docker image.\n",
    "\n",
    "Also, to make this run correctly, I am specifying the app to run from the IP Address \"0.0.0.0\". \n",
    "\n",
    "I am not quite sure why port 8000 is used, but I've seen it in plenty of examples, so as the saying goes, monkey see monkey do."
   ]
  },
  {
   "cell_type": "markdown",
   "metadata": {},
   "source": [
    "## Docker"
   ]
  },
  {
   "cell_type": "markdown",
   "metadata": {},
   "source": [
    "To run this app in Docker, you need to first build the Docker image. To build the image, you need a Docker file that specifies the operating system, environment, packages, etc. that you need to run the app.\n",
    "\n",
    "Luckily, there's an example of a plumber app in [Docker Hub](https://hub.docker.com/). Below is a modified Docker file, ~~stolen~~ borrowed from trestletech/plumber:"
   ]
  },
  {
   "cell_type": "markdown",
   "metadata": {},
   "source": [
    "```Docker\n",
    "FROM rocker/r-base\n",
    "MAINTAINER Jeff Allen <docker@trestletech.com>\n",
    "\n",
    "RUN apt-get update -qq && apt-get install -y \\\n",
    "  git-core \\\n",
    "  libssl-dev \\\n",
    "  libcurl4-gnutls-dev\n",
    "\n",
    "## RUN R -e 'install.packages(c(\"devtools\"))'\n",
    "## RUN R -e 'devtools::install_github(\"trestletech/plumber\")'\n",
    "RUN install2.r plumber\n",
    "\n",
    "RUN install2.r forecast\n",
    "\n",
    "RUN mkdir /home/auto_arima\n",
    "\n",
    "## RUN R -e \"install.packages(c('forecast', 'plumber'), dependencies=TRUE)\"\n",
    "  \n",
    "COPY plumber_auto_arima.R /home/auto_arima/plumber_auto_arima.R\n",
    "COPY plumber.R /home/auto_arima/plumber.R\n",
    "\n",
    "EXPOSE 8000\n",
    "\n",
    "CMD R -e \"source('/home/auto_arima/plumber.R')\"\n",
    "```"
   ]
  },
  {
   "cell_type": "markdown",
   "metadata": {},
   "source": [
    "The main changes to the trestletech/plumber code are installing the forecast package, making a /home/auto_arima directory, copying my R scripts into that directory, and running the plumber.R script."
   ]
  },
  {
   "cell_type": "markdown",
   "metadata": {},
   "source": [
    "Now with the Docker file and R scripts complete, building the image is pretty easy. You simply use the \"docker buid\" command like so:"
   ]
  },
  {
   "cell_type": "markdown",
   "metadata": {},
   "source": [
    "```Docker\n",
    "docker build -t dockerbuild-test \"C:\\Users\\mwtichen\\Documents\\R\" \n",
    "```"
   ]
  },
  {
   "cell_type": "markdown",
   "metadata": {},
   "source": [
    "Note: the -t flag is used to name the image.\n",
    "\n",
    "To run this in a container, you simply use the \"docker run\" command, like this:"
   ]
  },
  {
   "cell_type": "markdown",
   "metadata": {},
   "source": [
    "```Docker\n",
    "docker run -p 8000:8000  dockerbuild-test\n",
    "```"
   ]
  },
  {
   "cell_type": "markdown",
   "metadata": {},
   "source": [
    "Note: the -p flag is mapping port 8000 in the R program to port 8000 on my machine."
   ]
  },
  {
   "cell_type": "markdown",
   "metadata": {},
   "source": [
    "## Testing the API"
   ]
  },
  {
   "cell_type": "markdown",
   "metadata": {},
   "source": [
    "After using the \"docker run\" command, we have a web app running. \n",
    "\n",
    "Now, let's test it by posting a request.\n",
    "\n",
    "First I'll import the requests library."
   ]
  },
  {
   "cell_type": "code",
   "execution_count": 1,
   "metadata": {},
   "outputs": [],
   "source": [
    "import requests"
   ]
  },
  {
   "cell_type": "markdown",
   "metadata": {},
   "source": [
    "Next I'll make a dictionary of the data I plan to send."
   ]
  },
  {
   "cell_type": "code",
   "execution_count": 2,
   "metadata": {},
   "outputs": [],
   "source": [
    "data = {\"y\" : [822854, 750702, 696562, 995240, 913112, 825685, 736340, 993853, 907254, 811505, 763514],\n",
    "        \"f\" : 4}"
   ]
  },
  {
   "cell_type": "markdown",
   "metadata": {},
   "source": [
    "Lastly, I'll use the post method to request data from the appropriate URL."
   ]
  },
  {
   "cell_type": "code",
   "execution_count": 3,
   "metadata": {},
   "outputs": [],
   "source": [
    "url = \"http://192.168.99.100:8000/auto-arima\"\n",
    "\n",
    "\n",
    "r = requests.post(url, json=data)"
   ]
  },
  {
   "cell_type": "markdown",
   "metadata": {},
   "source": [
    "Here's the content that we get back:"
   ]
  },
  {
   "cell_type": "code",
   "execution_count": 4,
   "metadata": {},
   "outputs": [
    {
     "data": {
      "text/plain": [
       "b'{\"p\":[0],\"d\":[1],\"q\":[0],\"P\":[0],\"D\":[1],\"Q\":[0],\"S\":[4]}'"
      ]
     },
     "execution_count": 4,
     "metadata": {},
     "output_type": "execute_result"
    }
   ],
   "source": [
    "r.content"
   ]
  },
  {
   "cell_type": "markdown",
   "metadata": {},
   "source": [
    "Success!!!"
   ]
  },
  {
   "cell_type": "markdown",
   "metadata": {},
   "source": [
    "## Conclusion"
   ]
  },
  {
   "cell_type": "markdown",
   "metadata": {},
   "source": [
    "I hope you enjoyed following along. If you understood this as you read along, then either: 1) you already know Docker, or 2) you are a far smarter human being than I.\n",
    "\n",
    "For next steps, I plan on building a Python app with Flask.\n",
    "\n",
    "As always, thanks for reading."
   ]
  },
  {
   "cell_type": "code",
   "execution_count": null,
   "metadata": {},
   "outputs": [],
   "source": []
  }
 ],
 "metadata": {
  "kernelspec": {
   "display_name": "Python 3",
   "language": "python",
   "name": "python3"
  },
  "language_info": {
   "codemirror_mode": {
    "name": "ipython",
    "version": 3
   },
   "file_extension": ".py",
   "mimetype": "text/x-python",
   "name": "python",
   "nbconvert_exporter": "python",
   "pygments_lexer": "ipython3",
   "version": "3.7.3"
  }
 },
 "nbformat": 4,
 "nbformat_minor": 2
}
